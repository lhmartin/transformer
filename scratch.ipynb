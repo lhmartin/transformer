{
 "cells": [
  {
   "cell_type": "code",
   "execution_count": null,
   "metadata": {},
   "outputs": [],
   "source": [
    "from math import sqrt\n",
    "def _schedule(step : int):\n",
    "\n",
    "    # to account for step = 0\n",
    "    step += 1\n",
    "\n",
    "    dm = 512\n",
    "    warmup_steps = 4000\n",
    "\n",
    "    return (1/sqrt(dm)) * min(1/sqrt(step), step * (1/warmup_steps))"
   ]
  },
  {
   "cell_type": "code",
   "execution_count": null,
   "metadata": {},
   "outputs": [],
   "source": [
    "import matplotlib.pyplot as plt\n",
    "\n",
    "x = [i for i in range(10000)]\n",
    "y = [_schedule(i) for i in x]\n",
    "\n",
    "plt.plot(x,y)"
   ]
  },
  {
   "cell_type": "code",
   "execution_count": null,
   "metadata": {},
   "outputs": [],
   "source": [
    "from modules.positional_encoding import SinCosPositionalEmbedding\n",
    "\n",
    "embed = SinCosPositionalEmbedding(model_dimension=512, max_sequence_length=2024)"
   ]
  },
  {
   "cell_type": "code",
   "execution_count": null,
   "metadata": {},
   "outputs": [],
   "source": [
    "import numpy as np\n",
    "embed_np = embed.pos_embedings.numpy()\n",
    "\n",
    "shape = embed_np.shape\n",
    "data_type = embed_np.dtype\n",
    "\n",
    "width_mult = 9  # make it almost square\n",
    "positional_encodings_img = np.zeros((shape[0], width_mult*shape[1]), dtype=data_type)\n",
    "for i in range(width_mult):\n",
    "    positional_encodings_img[:, i::width_mult] = embed_np"
   ]
  },
  {
   "cell_type": "code",
   "execution_count": null,
   "metadata": {},
   "outputs": [],
   "source": [
    "import matplotlib.pyplot as plt"
   ]
  },
  {
   "cell_type": "code",
   "execution_count": null,
   "metadata": {},
   "outputs": [],
   "source": [
    "plt.imshow(positional_encodings_img)"
   ]
  },
  {
   "cell_type": "code",
   "execution_count": 1,
   "metadata": {},
   "outputs": [
    {
     "name": "stderr",
     "output_type": "stream",
     "text": [
      "/home/luke/.cache/pypoetry/virtualenvs/transformer-4yGT6EIL-py3.10/lib/python3.10/site-packages/tqdm/auto.py:21: TqdmWarning: IProgress not found. Please update jupyter and ipywidgets. See https://ipywidgets.readthedocs.io/en/stable/user_install.html\n",
      "  from .autonotebook import tqdm as notebook_tqdm\n",
      "/home/luke/.cache/pypoetry/virtualenvs/transformer-4yGT6EIL-py3.10/lib/python3.10/site-packages/pydantic/_internal/_fields.py:151: UserWarning: Field \"model_dimension\" has conflict with protected namespace \"model_\".\n",
      "\n",
      "You may be able to resolve this warning by setting `model_config['protected_namespaces'] = ()`.\n",
      "  warnings.warn(\n"
     ]
    }
   ],
   "source": [
    "import torch\n",
    "\n",
    "tmp = torch.load('./transformer_checkpoints/2024-03-19_09-25-34/0/200000/checkpoint.pt', map_location='cpu')"
   ]
  },
  {
   "cell_type": "code",
   "execution_count": 2,
   "metadata": {},
   "outputs": [],
   "source": [
    "from transformer import Transformer\n",
    "\n",
    "mdl = Transformer(tmp['config'].mdl_config)\n",
    "mdl.load_state_dict(state_dict=tmp['model_state_dict'])\n",
    "mdl = mdl.eval()"
   ]
  },
  {
   "cell_type": "code",
   "execution_count": 5,
   "metadata": {},
   "outputs": [
    {
     "data": {
      "text/plain": [
       "[['[CLS]',\n",
       "  'What',\n",
       "  'is',\n",
       "  'the',\n",
       "  'age',\n",
       "  'of',\n",
       "  'the',\n",
       "  'age',\n",
       "  'of',\n",
       "  'the',\n",
       "  'age',\n",
       "  '?',\n",
       "  '[SEP]']]"
      ]
     },
     "execution_count": 5,
     "metadata": {},
     "output_type": "execute_result"
    }
   ],
   "source": [
    "mdl.inference(['Hey Alter, wie geht es dir?'], tmp['config'].translation_dir)"
   ]
  }
 ],
 "metadata": {
  "kernelspec": {
   "display_name": "transformer-BmbRUHXQ-py3.10",
   "language": "python",
   "name": "python3"
  },
  "language_info": {
   "codemirror_mode": {
    "name": "ipython",
    "version": 3
   },
   "file_extension": ".py",
   "mimetype": "text/x-python",
   "name": "python",
   "nbconvert_exporter": "python",
   "pygments_lexer": "ipython3",
   "version": "3.10.13"
  }
 },
 "nbformat": 4,
 "nbformat_minor": 2
}
