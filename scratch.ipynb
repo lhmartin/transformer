{
 "cells": [
  {
   "cell_type": "code",
   "execution_count": 1,
   "metadata": {},
   "outputs": [],
   "source": [
    "from math import sqrt\n",
    "def _schedule(step : int):\n",
    "            \n",
    "    # to account for step = 0\n",
    "    step += 1\n",
    "    \n",
    "    dm = 512\n",
    "    warmup_steps = 4000\n",
    "    \n",
    "    return (1/sqrt(dm)) * min(1/sqrt(step), step * (1/warmup_steps))"
   ]
  },
  {
   "cell_type": "code",
   "execution_count": 3,
   "metadata": {},
   "outputs": [
    {
     "data": {
      "text/plain": [
       "[<matplotlib.lines.Line2D at 0x7fd4d2dabca0>]"
      ]
     },
     "execution_count": 3,
     "metadata": {},
     "output_type": "execute_result"
    },
    {
     "data": {
      "image/png": "[encoded data removed]",
      "text/plain": [
       "<Figure size 640x480 with 1 Axes>"
      ]
     },
     "metadata": {},
     "output_type": "display_data"
    }
   ],
   "source": [
    "import matplotlib.pyplot as plt\n",
    "\n",
    "x = [i for i in range(10000)]\n",
    "y = [_schedule(i) for i in x]\n",
    "\n",
    "plt.plot(x,y)"
   ]
  },
  {
   "cell_type": "code",
   "execution_count": 3,
   "metadata": {},
   "outputs": [],
   "source": [
    "from modules.positional_encoding import SinCosPositionalEmbedding\n",
    "\n",
    "embed = SinCosPositionalEmbedding(model_dimension=512, max_sequence_length=100)"
   ]
  },
  {
   "cell_type": "code",
   "execution_count": 8,
   "metadata": {},
   "outputs": [],
   "source": [
    "import torch.nn as nn\n",
    "import torch\n",
    "import math\n",
    "\n",
    "class PositionalEncoding(nn.Module):\n",
    "    def __init__(self, d_model, max_seq_length):\n",
    "        super(PositionalEncoding, self).__init__()\n",
    "\n",
    "        pe = torch.zeros(max_seq_length, d_model)\n",
    "        position = torch.arange(0, max_seq_length, dtype=torch.float).unsqueeze(1)\n",
    "        div_term = torch.exp(torch.arange(0, d_model, 2).float() * -(math.log(10000.0) / d_model))\n",
    "\n",
    "        pe[:, 0::2] = torch.sin(position * div_term)\n",
    "        pe[:, 1::2] = torch.cos(position * div_term)\n",
    "\n",
    "        self.register_buffer('pe', pe.unsqueeze(0))\n",
    "\n",
    "    def forward(self, x):\n",
    "        return x + self.pe[:, :x.size(1)]"
   ]
  },
  {
   "cell_type": "code",
   "execution_count": 11,
   "metadata": {},
   "outputs": [],
   "source": [
    "pe = PositionalEncoding(d_model=512, max_seq_length=100)"
   ]
  },
  {
   "cell_type": "code",
   "execution_count": 26,
   "metadata": {},
   "outputs": [],
   "source": [
    "luke_v = embed.pos_embedings.T.unsqueeze(0)"
   ]
  },
  {
   "cell_type": "code",
   "execution_count": 27,
   "metadata": {},
   "outputs": [],
   "source": [
    "other_v = pe.pe"
   ]
  },
  {
   "cell_type": "code",
   "execution_count": 31,
   "metadata": {},
   "outputs": [
    {
     "data": {
      "text/plain": [
       "torch.Size([512])"
      ]
     },
     "execution_count": 31,
     "metadata": {},
     "output_type": "execute_result"
    }
   ],
   "source": [
    "luke_v[0][0].shape"
   ]
  },
  {
   "cell_type": "code",
   "execution_count": 32,
   "metadata": {},
   "outputs": [
    {
     "data": {
      "text/plain": [
       "torch.Size([512])"
      ]
     },
     "execution_count": 32,
     "metadata": {},
     "output_type": "execute_result"
    }
   ],
   "source": [
    "other_v[0][0].shape"
   ]
  },
  {
   "cell_type": "code",
   "execution_count": 35,
   "metadata": {},
   "outputs": [
    {
     "data": {
      "text/plain": [
       "tensor([8.4147e-01, 5.6969e-01, 8.0196e-01, 6.2342e-01, 7.6172e-01, 6.7091e-01,\n",
       "        7.2141e-01, 7.1276e-01, 6.8156e-01, 7.4956e-01, 6.4256e-01, 7.8185e-01,\n",
       "        6.0469e-01, 8.1012e-01, 5.6818e-01, 8.3485e-01, 5.3317e-01, 8.5644e-01,\n",
       "        4.9974e-01, 8.7527e-01, 4.6795e-01, 8.9168e-01, 4.3781e-01, 9.0596e-01,\n",
       "        4.0931e-01, 9.1839e-01, 3.8242e-01, 9.2920e-01, 3.5711e-01, 9.3859e-01,\n",
       "        3.3332e-01, 9.4675e-01, 3.1098e-01, 9.5383e-01, 2.9004e-01, 9.5998e-01,\n",
       "        2.7043e-01, 9.6531e-01, 2.5208e-01, 9.6994e-01, 2.3492e-01, 9.7395e-01,\n",
       "        2.1889e-01, 9.7743e-01, 2.0391e-01, 9.8044e-01, 1.8993e-01, 9.8306e-01,\n",
       "        1.7689e-01, 9.8532e-01, 1.6473e-01, 9.8729e-01, 1.5338e-01, 9.8899e-01,\n",
       "        1.4281e-01, 9.9046e-01, 1.3296e-01, 9.9174e-01, 1.2378e-01, 9.9284e-01,\n",
       "        1.1522e-01, 9.9380e-01, 1.0725e-01, 9.9463e-01, 9.9833e-02, 9.9535e-01,\n",
       "        9.2923e-02, 9.9597e-01, 8.6488e-02, 9.9651e-01, 8.0497e-02, 9.9698e-01,\n",
       "        7.4919e-02, 9.9738e-01, 6.9726e-02, 9.9774e-01, 6.4893e-02, 9.9804e-01,\n",
       "        6.0393e-02, 9.9830e-01, 5.6204e-02, 9.9853e-01, 5.2306e-02, 9.9873e-01,\n",
       "        4.8678e-02, 9.9890e-01, 4.5300e-02, 9.9904e-01, 4.2157e-02, 9.9917e-01,\n",
       "        3.9232e-02, 9.9928e-01, 3.6509e-02, 9.9938e-01, 3.3976e-02, 9.9946e-01,\n",
       "        3.1618e-02, 9.9953e-01, 2.9423e-02, 9.9960e-01, 2.7381e-02, 9.9965e-01,\n",
       "        2.5480e-02, 9.9970e-01, 2.3712e-02, 9.9974e-01, 2.2066e-02, 9.9977e-01,\n",
       "        2.0534e-02, 9.9980e-01, 1.9108e-02, 9.9983e-01, 1.7782e-02, 9.9985e-01,\n",
       "        1.6547e-02, 9.9987e-01, 1.5399e-02, 9.9989e-01, 1.4330e-02, 9.9990e-01,\n",
       "        1.3335e-02, 9.9992e-01, 1.2409e-02, 9.9993e-01, 1.1548e-02, 9.9994e-01,\n",
       "        1.0746e-02, 9.9995e-01, 9.9998e-03, 9.9995e-01, 9.3056e-03, 9.9996e-01,\n",
       "        8.6595e-03, 9.9997e-01, 8.0583e-03, 9.9997e-01, 7.4989e-03, 9.9997e-01,\n",
       "        6.9782e-03, 9.9998e-01, 6.4938e-03, 9.9998e-01, 6.0429e-03, 9.9998e-01,\n",
       "        5.6234e-03, 9.9999e-01, 5.2330e-03, 9.9999e-01, 4.8697e-03, 9.9999e-01,\n",
       "        4.5316e-03, 9.9999e-01, 4.2170e-03, 9.9999e-01, 3.9242e-03, 9.9999e-01,\n",
       "        3.6517e-03, 9.9999e-01, 3.3982e-03, 9.9999e-01, 3.1623e-03, 1.0000e+00,\n",
       "        2.9427e-03, 1.0000e+00, 2.7384e-03, 1.0000e+00, 2.5483e-03, 1.0000e+00,\n",
       "        2.3714e-03, 1.0000e+00, 2.2067e-03, 1.0000e+00, 2.0535e-03, 1.0000e+00,\n",
       "        1.9110e-03, 1.0000e+00, 1.7783e-03, 1.0000e+00, 1.6548e-03, 1.0000e+00,\n",
       "        1.5399e-03, 1.0000e+00, 1.4330e-03, 1.0000e+00, 1.3335e-03, 1.0000e+00,\n",
       "        1.2409e-03, 1.0000e+00, 1.1548e-03, 1.0000e+00, 1.0746e-03, 1.0000e+00,\n",
       "        1.0000e-03, 1.0000e+00, 9.3057e-04, 1.0000e+00, 8.6596e-04, 1.0000e+00,\n",
       "        8.0584e-04, 1.0000e+00, 7.4989e-04, 1.0000e+00, 6.9783e-04, 1.0000e+00,\n",
       "        6.4938e-04, 1.0000e+00, 6.0430e-04, 1.0000e+00, 5.6234e-04, 1.0000e+00,\n",
       "        5.2330e-04, 1.0000e+00, 4.8697e-04, 1.0000e+00, 4.5316e-04, 1.0000e+00,\n",
       "        4.2170e-04, 1.0000e+00, 3.9242e-04, 1.0000e+00, 3.6517e-04, 1.0000e+00,\n",
       "        3.3982e-04, 1.0000e+00, 3.1623e-04, 1.0000e+00, 2.9427e-04, 1.0000e+00,\n",
       "        2.7384e-04, 1.0000e+00, 2.5483e-04, 1.0000e+00, 2.3714e-04, 1.0000e+00,\n",
       "        2.2067e-04, 1.0000e+00, 2.0535e-04, 1.0000e+00, 1.9110e-04, 1.0000e+00,\n",
       "        1.7783e-04, 1.0000e+00, 1.6548e-04, 1.0000e+00, 1.5399e-04, 1.0000e+00,\n",
       "        1.4330e-04, 1.0000e+00, 1.3335e-04, 1.0000e+00, 1.2409e-04, 1.0000e+00,\n",
       "        1.1548e-04, 1.0000e+00, 1.0746e-04, 1.0000e+00, 1.0000e-04, 1.0000e+00,\n",
       "        9.3057e-05, 1.0000e+00, 8.6596e-05, 1.0000e+00, 8.0584e-05, 1.0000e+00,\n",
       "        7.4989e-05, 1.0000e+00, 6.9783e-05, 1.0000e+00, 6.4938e-05, 1.0000e+00,\n",
       "        6.0430e-05, 1.0000e+00, 5.6234e-05, 1.0000e+00, 5.2330e-05, 1.0000e+00,\n",
       "        4.8697e-05, 1.0000e+00, 4.5316e-05, 1.0000e+00, 4.2170e-05, 1.0000e+00,\n",
       "        3.9242e-05, 1.0000e+00, 3.6517e-05, 1.0000e+00, 3.3982e-05, 1.0000e+00,\n",
       "        3.1623e-05, 1.0000e+00, 2.9427e-05, 1.0000e+00, 2.7384e-05, 1.0000e+00,\n",
       "        2.5483e-05, 1.0000e+00, 2.3714e-05, 1.0000e+00, 2.2067e-05, 1.0000e+00,\n",
       "        2.0535e-05, 1.0000e+00, 1.9110e-05, 1.0000e+00, 1.7783e-05, 1.0000e+00,\n",
       "        1.6548e-05, 1.0000e+00, 1.5399e-05, 1.0000e+00, 1.4330e-05, 1.0000e+00,\n",
       "        1.3335e-05, 1.0000e+00, 1.2409e-05, 1.0000e+00, 1.1548e-05, 1.0000e+00,\n",
       "        1.0746e-05, 1.0000e+00, 1.0000e-05, 1.0000e+00, 9.3057e-06, 1.0000e+00,\n",
       "        8.6596e-06, 1.0000e+00, 8.0584e-06, 1.0000e+00, 7.4989e-06, 1.0000e+00,\n",
       "        6.9783e-06, 1.0000e+00, 6.4938e-06, 1.0000e+00, 6.0430e-06, 1.0000e+00,\n",
       "        5.6234e-06, 1.0000e+00, 5.2330e-06, 1.0000e+00, 4.8697e-06, 1.0000e+00,\n",
       "        4.5316e-06, 1.0000e+00, 4.2170e-06, 1.0000e+00, 3.9242e-06, 1.0000e+00,\n",
       "        3.6517e-06, 1.0000e+00, 3.3982e-06, 1.0000e+00, 3.1623e-06, 1.0000e+00,\n",
       "        2.9427e-06, 1.0000e+00, 2.7384e-06, 1.0000e+00, 2.5483e-06, 1.0000e+00,\n",
       "        2.3714e-06, 1.0000e+00, 2.2067e-06, 1.0000e+00, 2.0535e-06, 1.0000e+00,\n",
       "        1.9110e-06, 1.0000e+00, 1.7783e-06, 1.0000e+00, 1.6548e-06, 1.0000e+00,\n",
       "        1.5399e-06, 1.0000e+00, 1.4330e-06, 1.0000e+00, 1.3335e-06, 1.0000e+00,\n",
       "        1.2409e-06, 1.0000e+00, 1.1548e-06, 1.0000e+00, 1.0746e-06, 1.0000e+00,\n",
       "        1.0000e-06, 1.0000e+00, 9.3057e-07, 1.0000e+00, 8.6596e-07, 1.0000e+00,\n",
       "        8.0584e-07, 1.0000e+00, 7.4989e-07, 1.0000e+00, 6.9783e-07, 1.0000e+00,\n",
       "        6.4938e-07, 1.0000e+00, 6.0430e-07, 1.0000e+00, 5.6234e-07, 1.0000e+00,\n",
       "        5.2330e-07, 1.0000e+00, 4.8697e-07, 1.0000e+00, 4.5316e-07, 1.0000e+00,\n",
       "        4.2170e-07, 1.0000e+00, 3.9242e-07, 1.0000e+00, 3.6517e-07, 1.0000e+00,\n",
       "        3.3982e-07, 1.0000e+00, 3.1623e-07, 1.0000e+00, 2.9427e-07, 1.0000e+00,\n",
       "        2.7384e-07, 1.0000e+00, 2.5483e-07, 1.0000e+00, 2.3714e-07, 1.0000e+00,\n",
       "        2.2067e-07, 1.0000e+00, 2.0535e-07, 1.0000e+00, 1.9110e-07, 1.0000e+00,\n",
       "        1.7783e-07, 1.0000e+00, 1.6548e-07, 1.0000e+00, 1.5399e-07, 1.0000e+00,\n",
       "        1.4330e-07, 1.0000e+00, 1.3335e-07, 1.0000e+00, 1.2409e-07, 1.0000e+00,\n",
       "        1.1548e-07, 1.0000e+00, 1.0746e-07, 1.0000e+00, 1.0000e-07, 1.0000e+00,\n",
       "        9.3057e-08, 1.0000e+00, 8.6596e-08, 1.0000e+00, 8.0584e-08, 1.0000e+00,\n",
       "        7.4989e-08, 1.0000e+00, 6.9783e-08, 1.0000e+00, 6.4938e-08, 1.0000e+00,\n",
       "        6.0430e-08, 1.0000e+00, 5.6234e-08, 1.0000e+00, 5.2330e-08, 1.0000e+00,\n",
       "        4.8697e-08, 1.0000e+00, 4.5316e-08, 1.0000e+00, 4.2170e-08, 1.0000e+00,\n",
       "        3.9242e-08, 1.0000e+00, 3.6517e-08, 1.0000e+00, 3.3982e-08, 1.0000e+00,\n",
       "        3.1623e-08, 1.0000e+00, 2.9427e-08, 1.0000e+00, 2.7384e-08, 1.0000e+00,\n",
       "        2.5483e-08, 1.0000e+00, 2.3714e-08, 1.0000e+00, 2.2067e-08, 1.0000e+00,\n",
       "        2.0535e-08, 1.0000e+00, 1.9110e-08, 1.0000e+00, 1.7783e-08, 1.0000e+00,\n",
       "        1.6548e-08, 1.0000e+00, 1.5399e-08, 1.0000e+00, 1.4330e-08, 1.0000e+00,\n",
       "        1.3335e-08, 1.0000e+00, 1.2409e-08, 1.0000e+00, 1.1548e-08, 1.0000e+00,\n",
       "        1.0746e-08, 1.0000e+00])"
      ]
     },
     "execution_count": 35,
     "metadata": {},
     "output_type": "execute_result"
    }
   ],
   "source": [
    "luke_v[0][1]"
   ]
  },
  {
   "cell_type": "code",
   "execution_count": 36,
   "metadata": {},
   "outputs": [
    {
     "data": {
      "text/plain": [
       "tensor([8.4147e-01, 5.4030e-01, 8.2186e-01, 5.6970e-01, 8.0196e-01, 5.9738e-01,\n",
       "        7.8189e-01, 6.2342e-01, 7.6172e-01, 6.4791e-01, 7.4154e-01, 6.7091e-01,\n",
       "        7.2141e-01, 6.9250e-01, 7.0140e-01, 7.1276e-01, 6.8156e-01, 7.3176e-01,\n",
       "        6.6193e-01, 7.4956e-01, 6.4256e-01, 7.6624e-01, 6.2347e-01, 7.8185e-01,\n",
       "        6.0469e-01, 7.9646e-01, 5.8626e-01, 8.1012e-01, 5.6818e-01, 8.2290e-01,\n",
       "        5.5048e-01, 8.3485e-01, 5.3317e-01, 8.4601e-01, 5.1625e-01, 8.5644e-01,\n",
       "        4.9974e-01, 8.6618e-01, 4.8364e-01, 8.7527e-01, 4.6795e-01, 8.8376e-01,\n",
       "        4.5267e-01, 8.9168e-01, 4.3781e-01, 8.9907e-01, 4.2335e-01, 9.0596e-01,\n",
       "        4.0931e-01, 9.1240e-01, 3.9567e-01, 9.1839e-01, 3.8242e-01, 9.2399e-01,\n",
       "        3.6957e-01, 9.2920e-01, 3.5711e-01, 9.3406e-01, 3.4503e-01, 9.3859e-01,\n",
       "        3.3332e-01, 9.4281e-01, 3.2197e-01, 9.4675e-01, 3.1098e-01, 9.5042e-01,\n",
       "        3.0034e-01, 9.5383e-01, 2.9004e-01, 9.5701e-01, 2.8008e-01, 9.5998e-01,\n",
       "        2.7043e-01, 9.6274e-01, 2.6110e-01, 9.6531e-01, 2.5208e-01, 9.6771e-01,\n",
       "        2.4336e-01, 9.6994e-01, 2.3492e-01, 9.7201e-01, 2.2677e-01, 9.7395e-01,\n",
       "        2.1889e-01, 9.7575e-01, 2.1127e-01, 9.7743e-01, 2.0391e-01, 9.7899e-01,\n",
       "        1.9680e-01, 9.8044e-01, 1.8993e-01, 9.8180e-01, 1.8330e-01, 9.8306e-01,\n",
       "        1.7689e-01, 9.8423e-01, 1.7070e-01, 9.8532e-01, 1.6473e-01, 9.8634e-01,\n",
       "        1.5896e-01, 9.8729e-01, 1.5338e-01, 9.8817e-01, 1.4801e-01, 9.8899e-01,\n",
       "        1.4281e-01, 9.8975e-01, 1.3780e-01, 9.9046e-01, 1.3296e-01, 9.9112e-01,\n",
       "        1.2829e-01, 9.9174e-01, 1.2378e-01, 9.9231e-01, 1.1942e-01, 9.9284e-01,\n",
       "        1.1522e-01, 9.9334e-01, 1.1117e-01, 9.9380e-01, 1.0725e-01, 9.9423e-01,\n",
       "        1.0348e-01, 9.9463e-01, 9.9833e-02, 9.9500e-01, 9.6317e-02, 9.9535e-01,\n",
       "        9.2923e-02, 9.9567e-01, 8.9648e-02, 9.9597e-01, 8.6488e-02, 9.9625e-01,\n",
       "        8.3439e-02, 9.9651e-01, 8.0497e-02, 9.9675e-01, 7.7658e-02, 9.9698e-01,\n",
       "        7.4919e-02, 9.9719e-01, 7.2276e-02, 9.9738e-01, 6.9726e-02, 9.9757e-01,\n",
       "        6.7266e-02, 9.9774e-01, 6.4893e-02, 9.9789e-01, 6.2602e-02, 9.9804e-01,\n",
       "        6.0393e-02, 9.9817e-01, 5.8261e-02, 9.9830e-01, 5.6204e-02, 9.9842e-01,\n",
       "        5.4220e-02, 9.9853e-01, 5.2306e-02, 9.9863e-01, 5.0459e-02, 9.9873e-01,\n",
       "        4.8678e-02, 9.9881e-01, 4.6959e-02, 9.9890e-01, 4.5300e-02, 9.9897e-01,\n",
       "        4.3701e-02, 9.9904e-01, 4.2157e-02, 9.9911e-01, 4.0668e-02, 9.9917e-01,\n",
       "        3.9232e-02, 9.9923e-01, 3.7846e-02, 9.9928e-01, 3.6509e-02, 9.9933e-01,\n",
       "        3.5220e-02, 9.9938e-01, 3.3976e-02, 9.9942e-01, 3.2775e-02, 9.9946e-01,\n",
       "        3.1618e-02, 9.9950e-01, 3.0501e-02, 9.9953e-01, 2.9423e-02, 9.9957e-01,\n",
       "        2.8384e-02, 9.9960e-01, 2.7381e-02, 9.9963e-01, 2.6413e-02, 9.9965e-01,\n",
       "        2.5480e-02, 9.9968e-01, 2.4580e-02, 9.9970e-01, 2.3712e-02, 9.9972e-01,\n",
       "        2.2874e-02, 9.9974e-01, 2.2066e-02, 9.9976e-01, 2.1286e-02, 9.9977e-01,\n",
       "        2.0534e-02, 9.9979e-01, 1.9808e-02, 9.9980e-01, 1.9108e-02, 9.9982e-01,\n",
       "        1.8433e-02, 9.9983e-01, 1.7782e-02, 9.9984e-01, 1.7154e-02, 9.9985e-01,\n",
       "        1.6547e-02, 9.9986e-01, 1.5963e-02, 9.9987e-01, 1.5399e-02, 9.9988e-01,\n",
       "        1.4855e-02, 9.9989e-01, 1.4330e-02, 9.9990e-01, 1.3823e-02, 9.9990e-01,\n",
       "        1.3335e-02, 9.9991e-01, 1.2864e-02, 9.9992e-01, 1.2409e-02, 9.9992e-01,\n",
       "        1.1971e-02, 9.9993e-01, 1.1548e-02, 9.9993e-01, 1.1140e-02, 9.9994e-01,\n",
       "        1.0746e-02, 9.9994e-01, 1.0366e-02, 9.9995e-01, 9.9998e-03, 9.9995e-01,\n",
       "        9.6465e-03, 9.9995e-01, 9.3056e-03, 9.9996e-01, 8.9768e-03, 9.9996e-01,\n",
       "        8.6595e-03, 9.9996e-01, 8.3535e-03, 9.9997e-01, 8.0583e-03, 9.9997e-01,\n",
       "        7.7736e-03, 9.9997e-01, 7.4989e-03, 9.9997e-01, 7.2339e-03, 9.9997e-01,\n",
       "        6.9782e-03, 9.9998e-01, 6.7317e-03, 9.9998e-01, 6.4938e-03, 9.9998e-01,\n",
       "        6.2643e-03, 9.9998e-01, 6.0429e-03, 9.9998e-01, 5.8294e-03, 9.9998e-01,\n",
       "        5.6234e-03, 9.9998e-01, 5.4247e-03, 9.9999e-01, 5.2330e-03, 9.9999e-01,\n",
       "        5.0480e-03, 9.9999e-01, 4.8697e-03, 9.9999e-01, 4.6976e-03, 9.9999e-01,\n",
       "        4.5316e-03, 9.9999e-01, 4.3714e-03, 9.9999e-01, 4.2170e-03, 9.9999e-01,\n",
       "        4.0679e-03, 9.9999e-01, 3.9242e-03, 9.9999e-01, 3.7855e-03, 9.9999e-01,\n",
       "        3.6517e-03, 9.9999e-01, 3.5227e-03, 9.9999e-01, 3.3982e-03, 9.9999e-01,\n",
       "        3.2781e-03, 9.9999e-01, 3.1623e-03, 9.9999e-01, 3.0505e-03, 1.0000e+00,\n",
       "        2.9427e-03, 1.0000e+00, 2.8387e-03, 1.0000e+00, 2.7384e-03, 1.0000e+00,\n",
       "        2.6416e-03, 1.0000e+00, 2.5483e-03, 1.0000e+00, 2.4582e-03, 1.0000e+00,\n",
       "        2.3714e-03, 1.0000e+00, 2.2876e-03, 1.0000e+00, 2.2067e-03, 1.0000e+00,\n",
       "        2.1287e-03, 1.0000e+00, 2.0535e-03, 1.0000e+00, 1.9810e-03, 1.0000e+00,\n",
       "        1.9110e-03, 1.0000e+00, 1.8434e-03, 1.0000e+00, 1.7783e-03, 1.0000e+00,\n",
       "        1.7154e-03, 1.0000e+00, 1.6548e-03, 1.0000e+00, 1.5963e-03, 1.0000e+00,\n",
       "        1.5399e-03, 1.0000e+00, 1.4855e-03, 1.0000e+00, 1.4330e-03, 1.0000e+00,\n",
       "        1.3824e-03, 1.0000e+00, 1.3335e-03, 1.0000e+00, 1.2864e-03, 1.0000e+00,\n",
       "        1.2409e-03, 1.0000e+00, 1.1971e-03, 1.0000e+00, 1.1548e-03, 1.0000e+00,\n",
       "        1.1140e-03, 1.0000e+00, 1.0746e-03, 1.0000e+00, 1.0366e-03, 1.0000e+00,\n",
       "        1.0000e-03, 1.0000e+00, 9.6466e-04, 1.0000e+00, 9.3057e-04, 1.0000e+00,\n",
       "        8.9769e-04, 1.0000e+00, 8.6596e-04, 1.0000e+00, 8.3536e-04, 1.0000e+00,\n",
       "        8.0584e-04, 1.0000e+00, 7.7736e-04, 1.0000e+00, 7.4989e-04, 1.0000e+00,\n",
       "        7.2339e-04, 1.0000e+00, 6.9783e-04, 1.0000e+00, 6.7317e-04, 1.0000e+00,\n",
       "        6.4938e-04, 1.0000e+00, 6.2643e-04, 1.0000e+00, 6.0430e-04, 1.0000e+00,\n",
       "        5.8294e-04, 1.0000e+00, 5.6234e-04, 1.0000e+00, 5.4247e-04, 1.0000e+00,\n",
       "        5.2330e-04, 1.0000e+00, 5.0481e-04, 1.0000e+00, 4.8697e-04, 1.0000e+00,\n",
       "        4.6976e-04, 1.0000e+00, 4.5316e-04, 1.0000e+00, 4.3714e-04, 1.0000e+00,\n",
       "        4.2170e-04, 1.0000e+00, 4.0679e-04, 1.0000e+00, 3.9242e-04, 1.0000e+00,\n",
       "        3.7855e-04, 1.0000e+00, 3.6517e-04, 1.0000e+00, 3.5227e-04, 1.0000e+00,\n",
       "        3.3982e-04, 1.0000e+00, 3.2781e-04, 1.0000e+00, 3.1623e-04, 1.0000e+00,\n",
       "        3.0505e-04, 1.0000e+00, 2.9427e-04, 1.0000e+00, 2.8387e-04, 1.0000e+00,\n",
       "        2.7384e-04, 1.0000e+00, 2.6416e-04, 1.0000e+00, 2.5483e-04, 1.0000e+00,\n",
       "        2.4582e-04, 1.0000e+00, 2.3714e-04, 1.0000e+00, 2.2876e-04, 1.0000e+00,\n",
       "        2.2067e-04, 1.0000e+00, 2.1288e-04, 1.0000e+00, 2.0535e-04, 1.0000e+00,\n",
       "        1.9810e-04, 1.0000e+00, 1.9110e-04, 1.0000e+00, 1.8434e-04, 1.0000e+00,\n",
       "        1.7783e-04, 1.0000e+00, 1.7154e-04, 1.0000e+00, 1.6548e-04, 1.0000e+00,\n",
       "        1.5963e-04, 1.0000e+00, 1.5399e-04, 1.0000e+00, 1.4855e-04, 1.0000e+00,\n",
       "        1.4330e-04, 1.0000e+00, 1.3824e-04, 1.0000e+00, 1.3335e-04, 1.0000e+00,\n",
       "        1.2864e-04, 1.0000e+00, 1.2409e-04, 1.0000e+00, 1.1971e-04, 1.0000e+00,\n",
       "        1.1548e-04, 1.0000e+00, 1.1140e-04, 1.0000e+00, 1.0746e-04, 1.0000e+00,\n",
       "        1.0366e-04, 1.0000e+00])"
      ]
     },
     "execution_count": 36,
     "metadata": {},
     "output_type": "execute_result"
    }
   ],
   "source": [
    "other_v[0][1]"
   ]
  },
  {
   "cell_type": "code",
   "execution_count": null,
   "metadata": {},
   "outputs": [],
   "source": []
  }
 ],
 "metadata": {
  "kernelspec": {
   "display_name": "transformer-BmbRUHXQ-py3.10",
   "language": "python",
   "name": "python3"
  },
  "language_info": {
   "codemirror_mode": {
    "name": "ipython",
    "version": 3
   },
   "file_extension": ".py",
   "mimetype": "text/x-python",
   "name": "python",
   "nbconvert_exporter": "python",
   "pygments_lexer": "ipython3",
   "version": "3.10.13"
  }
 },
 "nbformat": 4,
 "nbformat_minor": 2
}
